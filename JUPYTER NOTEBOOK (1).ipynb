{
 "cells": [
  {
   "cell_type": "markdown",
   "id": "36f109a9",
   "metadata": {},
   "source": [
    "# Notebook"
   ]
  },
  {
   "cell_type": "markdown",
   "id": "3615b813",
   "metadata": {},
   "source": [
    "## Introduction ##"
   ]
  },
  {
   "cell_type": "code",
   "execution_count": null,
   "id": "33ff8cab",
   "metadata": {},
   "outputs": [],
   "source": [
    "# Data Science Language"
   ]
  },
  {
   "cell_type": "markdown",
   "id": "3c8bae0c",
   "metadata": {},
   "source": [
    "1. Python\n",
    "2. R\n",
    "3. SQL\n",
    "4. Scala\n",
    "5. Julia\n",
    "6. Java\n",
    "7. C++"
   ]
  },
  {
   "cell_type": "code",
   "execution_count": null,
   "id": "fd483e65",
   "metadata": {},
   "outputs": [],
   "source": [
    "#Data science libraries"
   ]
  },
  {
   "cell_type": "markdown",
   "id": "3b218e3a",
   "metadata": {},
   "source": [
    "1. Numpy\n",
    "2. Pandas\n",
    "3. Seaborn\n",
    "4. metplotlib\n",
    "5. scikitlearn\n",
    "6. ggplot\n",
    "7. caret\n",
    "8. stringr\n",
    "9. dplyr"
   ]
  },
  {
   "cell_type": "code",
   "execution_count": null,
   "id": "2c379c3c",
   "metadata": {},
   "outputs": [],
   "source": [
    "#Table of data science tool"
   ]
  },
  {
   "cell_type": "markdown",
   "id": "a09baa51",
   "metadata": {},
   "source": [
    "|Language|Libraries|Data management tools|Data visualisation|Model deployemnt|Model monitoring|\n",
    "|-----|-----|------|---------------|---------------|-------------|\n",
    "|Python|Numpy|MySQL|kibana|Seldon|IBM explainability 360|\n",
    "|Pythonlite|Pandas|MangoDB|Pixie Dust|Tensorflow|IBM fairness 360|\n",
    "|R|scielearn|Hadoop|Apache superset|kubernetes|IBM Robustness|\n",
    "|C++|Tensorflow|PostgreSQL|Power BI|Mleap|Promotheus|\n",
    "|Java|regression|Ceph|Tableua|Tensorflowlite|Spark|"
   ]
  },
  {
   "cell_type": "code",
   "execution_count": null,
   "id": "74174f49",
   "metadata": {},
   "outputs": [],
   "source": [
    "# Arethmetic expression\n",
    " \n",
    "+ First expression\n",
    "+ Second expression\n",
    "+ Third expression\n",
    "+ Fourth expression\n",
    "\n",
    "- First expression\n",
    "- Second expression\n",
    "- Third expression\n",
    "- Fourth expression\n",
    "\n",
    "* First expression\n",
    "* Second expression\n",
    "* Third expression\n",
    "* Fourth expression\n",
    "\n",
    "1. First expression\n",
    "2. Second expression\n",
    "3. Third expression\n",
    "4. Fourth expression"
   ]
  },
  {
   "cell_type": "code",
   "execution_count": 1,
   "id": "e4dd6fda",
   "metadata": {},
   "outputs": [
    {
     "data": {
      "text/plain": [
       "6"
      ]
     },
     "execution_count": 1,
     "metadata": {},
     "output_type": "execute_result"
    }
   ],
   "source": [
    " # multiplaction and addition cell\n",
    "2*2+2"
   ]
  },
  {
   "cell_type": "code",
   "execution_count": null,
   "id": "7a847401",
   "metadata": {},
   "outputs": [],
   "source": [
    "# convert minutes to hours"
   ]
  },
  {
   "cell_type": "code",
   "execution_count": 37,
   "id": "f261e1b7",
   "metadata": {},
   "outputs": [
    {
     "name": "stdout",
     "output_type": "stream",
     "text": [
      " time in minutes: 180\n"
     ]
    }
   ],
   "source": [
    "time = float(input(\" time in minutes: \"))"
   ]
  },
  {
   "cell_type": "code",
   "execution_count": 43,
   "id": "5f87e1a3",
   "metadata": {},
   "outputs": [],
   "source": [
    "hours = time // 60"
   ]
  },
  {
   "cell_type": "code",
   "execution_count": 44,
   "id": "41ec1f3a",
   "metadata": {},
   "outputs": [
    {
     "data": {
      "text/plain": [
       "3.0"
      ]
     },
     "execution_count": 44,
     "metadata": {},
     "output_type": "execute_result"
    }
   ],
   "source": [
    "hours"
   ]
  },
  {
   "cell_type": "code",
   "execution_count": null,
   "id": "dc61b110",
   "metadata": {},
   "outputs": [],
   "source": [
    "# List of objectives"
   ]
  },
  {
   "cell_type": "markdown",
   "id": "c77a0e9e",
   "metadata": {},
   "source": [
    "1. Understand the basics of SQL\n",
    "2. Understand the basics of Python\n",
    "3. Understand the language to use depending on the problem to solve\n",
    "4. Able to tell a story from a data through utilisation of visualisation tools\n",
    "5. Become proficient in data analytics and use of computational tools"
   ]
  },
  {
   "cell_type": "code",
   "execution_count": null,
   "id": "7634ff21",
   "metadata": {},
   "outputs": [],
   "source": [
    "# Author"
   ]
  },
  {
   "cell_type": "markdown",
   "id": "c2358da5",
   "metadata": {},
   "source": [
    "Joseph Khoza"
   ]
  },
  {
   "cell_type": "code",
   "execution_count": null,
   "id": "3ded1db1",
   "metadata": {},
   "outputs": [],
   "source": [
    "# Github"
   ]
  },
  {
   "cell_type": "code",
   "execution_count": null,
   "id": "c7eb58fd",
   "metadata": {},
   "outputs": [],
   "source": []
  }
 ],
 "metadata": {
  "kernelspec": {
   "display_name": "Python 3 (ipykernel)",
   "language": "python",
   "name": "python3"
  },
  "language_info": {
   "codemirror_mode": {
    "name": "ipython",
    "version": 3
   },
   "file_extension": ".py",
   "mimetype": "text/x-python",
   "name": "python",
   "nbconvert_exporter": "python",
   "pygments_lexer": "ipython3",
   "version": "3.11.3"
  }
 },
 "nbformat": 4,
 "nbformat_minor": 5
}
